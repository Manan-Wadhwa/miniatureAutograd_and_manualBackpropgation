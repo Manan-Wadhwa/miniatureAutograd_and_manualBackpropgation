{
 "cells": [
  {
   "cell_type": "code",
   "execution_count": 1,
   "metadata": {},
   "outputs": [
    {
     "name": "stdout",
     "output_type": "stream",
     "text": [
      "Logits: tensor([[-0.5475,  0.0836,  0.7862, -0.6821,  0.6430],\n",
      "        [ 1.4030,  1.1544,  0.6249,  1.4138, -1.4120],\n",
      "        [-0.8555, -1.2381, -1.4111, -0.7317,  0.7690]],\n",
      "       grad_fn=<NativeBatchNormBackward0>)\n",
      "Loss: 1.5882066488265991\n"
     ]
    }
   ],
   "source": [
    "import torch\n",
    "import torch.nn as nn\n",
    "import torch.nn.functional as F\n",
    "\n",
    "class TwoLayerMLP(nn.Module):\n",
    "    def __init__(self, input_dim, hidden_dim, output_dim):\n",
    "        super(TwoLayerMLP, self).__init__()\n",
    "        \n",
    "        # Define the layers\n",
    "        self.fc1 = nn.Linear(input_dim, hidden_dim)       # First linear layer\n",
    "        self.bn1 = nn.BatchNorm1d(hidden_dim)             # First batch normalization\n",
    "        self.fc2 = nn.Linear(hidden_dim, output_dim)      # Second linear layer\n",
    "        self.bn2 = nn.BatchNorm1d(output_dim)             # Second batch normalization\n",
    "\n",
    "    def forward(self, x):\n",
    "        # Forward pass through the first layer\n",
    "        x = self.fc1(x)\n",
    "        x = self.bn1(x)\n",
    "        x = torch.tanh(x)\n",
    "        \n",
    "        # Forward pass through the second layer\n",
    "        x = self.fc2(x)\n",
    "        x = self.bn2(x)\n",
    "        return x  # Output is logits, for use with Cross-Entropy Loss\n",
    "\n",
    "# Example usage:\n",
    "input_dim = 10   # Dimension of input features\n",
    "hidden_dim = 20  # Number of neurons in the hidden layer\n",
    "output_dim = 5   # Number of output classes\n",
    "\n",
    "model = TwoLayerMLP(input_dim, hidden_dim, output_dim)\n",
    "\n",
    "# Generate a random input tensor with batch size of 3 and input dimension of 10\n",
    "inputs = torch.randn(3, input_dim)\n",
    "\n",
    "# Forward pass\n",
    "logits = model(inputs)\n",
    "\n",
    "# Define target labels (for demonstration, using random labels for a 5-class problem)\n",
    "targets = torch.randint(0, output_dim, (3,))\n",
    "\n",
    "# Compute the cross-entropy loss\n",
    "criterion = nn.CrossEntropyLoss()\n",
    "loss = criterion(logits, targets)\n",
    "\n",
    "print(\"Logits:\", logits)\n",
    "print(\"Loss:\", loss.item())\n",
    "\n"
   ]
  }
 ],
 "metadata": {
  "kernelspec": {
   "display_name": "Python 3",
   "language": "python",
   "name": "python3"
  },
  "language_info": {
   "codemirror_mode": {
    "name": "ipython",
    "version": 3
   },
   "file_extension": ".py",
   "mimetype": "text/x-python",
   "name": "python",
   "nbconvert_exporter": "python",
   "pygments_lexer": "ipython3",
   "version": "3.10.6"
  }
 },
 "nbformat": 4,
 "nbformat_minor": 2
}
