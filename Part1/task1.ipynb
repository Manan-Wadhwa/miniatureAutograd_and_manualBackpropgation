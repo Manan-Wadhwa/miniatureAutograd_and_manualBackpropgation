{
  "cells": [
    {
      "cell_type": "code",
      "execution_count": 94,
      "metadata": {
        "id": "HlQYFSCnvHZY"
      },
      "outputs": [],
      "source": [
        "import math\n",
        "import numpy as np\n",
        "import matplotlib.pyplot as plt\n",
        "%matplotlib inline"
      ]
    },
    {
      "cell_type": "code",
      "execution_count": 95,
      "metadata": {
        "id": "85NsPQO2vHZZ"
      },
      "outputs": [],
      "source": [
        "def f(x):\n",
        "    return x**2"
      ]
    },
    {
      "cell_type": "code",
      "execution_count": 96,
      "metadata": {
        "colab": {
          "base_uri": "https://localhost:8080/",
          "height": 430
        },
        "id": "cjkrCjCsvHZZ",
        "outputId": "b4edc1a4-770a-4afe-ac54-3e50b152c13f"
      },
      "outputs": [
        {
          "output_type": "display_data",
          "data": {
            "text/plain": [
              "<Figure size 640x480 with 1 Axes>"
            ],
            "image/png": "[encoded data removed]"
          },
          "metadata": {}
        }
      ],
      "source": [
        "xs = np.arange(-10, 10, 0.1)\n",
        "ys=f(xs)\n",
        "plt.plot(xs, ys)\n",
        "plt.show()"
      ]
    },
    {
      "cell_type": "code",
      "execution_count": 97,
      "metadata": {
        "id": "Te1-rknPvHZa"
      },
      "outputs": [],
      "source": [
        "class Value:\n",
        "    def __init__(self,data, _children = (), _op='', label=''):\n",
        "        self.data=data\n",
        "        self._prev=set(_children)\n",
        "        self._op=_op\n",
        "        self.label = label\n",
        "        self.grad = 0.0\n",
        "        self._backward = lambda: None\n",
        "\n",
        "    def __repr__(self):\n",
        "        return \"data =\"+str(self.data)\n",
        "\n",
        "    def __add__(self,other):\n",
        "        out = Value(self.data+other.data,(self,other),'+')\n",
        "\n",
        "        def _backward():\n",
        "          self.grad += 1.0*out.grad\n",
        "          other.grad += 1.0*out.grad\n",
        "        out._backward = _backward\n",
        "        return out\n",
        "\n",
        "\n",
        "    def __mul__(self,other):\n",
        "        out = Value(self.data*other.data,(self,other),'*')\n",
        "\n",
        "        def _backward():\n",
        "          self.grad += other.data*out.grad\n",
        "          other.grad += self.data*out.grad\n",
        "        out._backward = _backward\n",
        "        return out\n",
        "\n",
        "\n",
        "    def tanh(self):\n",
        "        x = self.data\n",
        "        t = (math.exp(2*x) - 1)/(math.exp(2*x) + 1)\n",
        "        out = Value(t, _children=(self,), _op='tanh', label=f\"tanh({self.label})\")\n",
        "\n",
        "        def _backward():\n",
        "          self.grad = (1 - t**2) * out.grad\n",
        "        out._backward = _backward\n",
        "        return out\n",
        "\n",
        "\n",
        "    def backward(self):\n",
        "      topo = []\n",
        "      visited = set()\n",
        "      def build_topo(v):\n",
        "        if v not in visited:\n",
        "          visited.add(v)\n",
        "        for child in v._prev:\n",
        "          build_topo(child)\n",
        "        topo.append(v)\n",
        "      build_topo(self)\n",
        "      self.grad = 1.0\n",
        "      for node in reversed(topo):\n",
        "        node._backward()\n",
        "\n",
        "\n",
        "a=Value(2.0, label= 'a')\n",
        "b=Value(-3.0, label = 'b')\n",
        "c=Value(10.0, label = 'c')\n",
        "d=a*b ;d.label = 'd'\n",
        "e = d+c;e.label= 'e'\n",
        "f=Value(2.0, label = 'f')\n",
        "L = e*f;L.label = 'L'\n"
      ]
    },
    {
      "cell_type": "code",
      "execution_count": 98,
      "metadata": {
        "colab": {
          "base_uri": "https://localhost:8080/",
          "height": 36
        },
        "id": "dRXRx51ivHZa",
        "outputId": "d25a83fd-9c37-4445-a682-48cabe976e14"
      },
      "outputs": [
        {
          "output_type": "execute_result",
          "data": {
            "text/plain": [
              "'*'"
            ],
            "application/vnd.google.colaboratory.intrinsic+json": {
              "type": "string"
            }
          },
          "metadata": {},
          "execution_count": 98
        }
      ],
      "source": [
        "d._prev\n",
        "\n",
        "d._op"
      ]
    },
    {
      "cell_type": "code",
      "execution_count": 99,
      "metadata": {
        "id": "u2s0GKqHvHZb"
      },
      "outputs": [],
      "source": [
        "from graphviz import Digraph\n",
        "\n",
        "\n",
        "def trace( root):\n",
        "# builds a set of all nodes and edges in a graph\n",
        "    nodes, edges = set(), set()\n",
        "    def build(v):\n",
        "        if v not in nodes:\n",
        "            nodes.add ( v )\n",
        "            for child in v._prev:\n",
        "                edges.add((child, v))\n",
        "                build(child)\n",
        "    build(root)\n",
        "    return nodes, edges\n",
        "\n",
        "def draw_dot(root):\n",
        "    dot = Digraph(format='svg',graph_attr={'randkir': 'LR'}) #, node_attr={'rankdir': 'TB'})\n",
        "    nodes, edges = trace(root)\n",
        "    for n in nodes:\n",
        "        uid = str(id(n))\n",
        "        # for any value in the graph, create a rectangular record') node for it\n",
        "        dot.node(name = uid, label = \"{%s | data = %.4f | grad %.f}\" % (n.label, n.data, n.grad), shape='record')\n",
        "        if n._op:\n",
        "        # if this value is a result of some operation, create an op node for it\n",
        "            dot.node(name = uid + n._op, label = n._op)\n",
        "# and connect this node to it\n",
        "            dot.edge(uid + n._op, uid)\n",
        "    for nl, n2 in edges:\n",
        "# connect nI to the op node Of n2\n",
        "        dot.edge(str(id(nl)), str(id(n2)) + n2._op)\n",
        "    return dot"
      ]
    },
    {
      "cell_type": "code",
      "execution_count": 100,
      "metadata": {
        "colab": {
          "base_uri": "https://localhost:8080/",
          "height": 838
        },
        "id": "wOHeNJolvHZb",
        "outputId": "1d386089-1c03-40b8-b31d-8fdf31af7ad0"
      },
      "outputs": [
        {
          "output_type": "execute_result",
          "data": {
            "image/svg+xml": "<?xml version=\"1.0\" encoding=\"UTF-8\" standalone=\"no\"?>\n<!DOCTYPE svg PUBLIC \"-//W3C//DTD SVG 1.1//EN\"\n \"http://www.w3.org/Graphics/SVG/1.1/DTD/svg11.dtd\">\n<!-- Generated by graphviz version 2.43.0 (0)\n -->\n<!-- Title: %3 Pages: 1 -->\n<svg width=\"278pt\" height=\"612pt\"\n viewBox=\"0.00 0.00 278.00 612.00\" xmlns=\"http://www.w3.org/2000/svg\" xmlns:xlink=\"http://www.w3.org/1999/xlink\">\n<g id=\"graph0\" class=\"graph\" transform=\"scale(1 1) rotate(0) translate(4 608)\">\n<title>%3</title>\n<polygon fill=\"white\" stroke=\"transparent\" points=\"-4,4 -4,-608 274,-608 274,4 -4,4\"/>\n<!-- 132656520465952 -->\n<g id=\"node1\" class=\"node\">\n<title>132656520465952</title>\n<polygon fill=\"none\" stroke=\"black\" points=\"116.5,-178.5 116.5,-247.5 208.5,-247.5 208.5,-178.5 116.5,-178.5\"/>\n<text text-anchor=\"middle\" x=\"162.5\" y=\"-232.3\" font-family=\"Times,serif\" font-size=\"14.00\">e</text>\n<polyline fill=\"none\" stroke=\"black\" points=\"116.5,-224.5 208.5,-224.5 \"/>\n<text text-anchor=\"middle\" x=\"162.5\" y=\"-209.3\" font-family=\"Times,serif\" font-size=\"14.00\">data = 4.0000</text>\n<polyline fill=\"none\" stroke=\"black\" points=\"116.5,-201.5 208.5,-201.5 \"/>\n<text text-anchor=\"middle\" x=\"162.5\" y=\"-186.3\" font-family=\"Times,serif\" font-size=\"14.00\">grad 0</text>\n</g>\n<!-- 132656520473152* -->\n<g id=\"node6\" class=\"node\">\n<title>132656520473152*</title>\n<ellipse fill=\"none\" stroke=\"black\" cx=\"107.5\" cy=\"-124\" rx=\"27\" ry=\"18\"/>\n<text text-anchor=\"middle\" x=\"107.5\" y=\"-120.3\" font-family=\"Times,serif\" font-size=\"14.00\">*</text>\n</g>\n<!-- 132656520465952&#45;&gt;132656520473152* -->\n<g id=\"edge4\" class=\"edge\">\n<title>132656520465952&#45;&gt;132656520473152*</title>\n<path fill=\"none\" stroke=\"black\" d=\"M141.08,-178.11C135.08,-168.62 128.67,-158.49 123.08,-149.65\"/>\n<polygon fill=\"black\" stroke=\"black\" points=\"125.9,-147.56 117.6,-140.98 119.99,-151.3 125.9,-147.56\"/>\n</g>\n<!-- 132656520465952+ -->\n<g id=\"node2\" class=\"node\">\n<title>132656520465952+</title>\n<ellipse fill=\"none\" stroke=\"black\" cx=\"162.5\" cy=\"-302\" rx=\"27\" ry=\"18\"/>\n<text text-anchor=\"middle\" x=\"162.5\" y=\"-298.3\" font-family=\"Times,serif\" font-size=\"14.00\">+</text>\n</g>\n<!-- 132656520465952+&#45;&gt;132656520465952 -->\n<g id=\"edge1\" class=\"edge\">\n<title>132656520465952+&#45;&gt;132656520465952</title>\n<path fill=\"none\" stroke=\"black\" d=\"M162.5,-283.81C162.5,-276.33 162.5,-267.18 162.5,-258\"/>\n<polygon fill=\"black\" stroke=\"black\" points=\"166,-257.71 162.5,-247.71 159,-257.71 166,-257.71\"/>\n</g>\n<!-- 132656520277552 -->\n<g id=\"node3\" class=\"node\">\n<title>132656520277552</title>\n<polygon fill=\"none\" stroke=\"black\" points=\"56,-356.5 56,-425.5 153,-425.5 153,-356.5 56,-356.5\"/>\n<text text-anchor=\"middle\" x=\"104.5\" y=\"-410.3\" font-family=\"Times,serif\" font-size=\"14.00\">d</text>\n<polyline fill=\"none\" stroke=\"black\" points=\"56,-402.5 153,-402.5 \"/>\n<text text-anchor=\"middle\" x=\"104.5\" y=\"-387.3\" font-family=\"Times,serif\" font-size=\"14.00\">data = &#45;6.0000</text>\n<polyline fill=\"none\" stroke=\"black\" points=\"56,-379.5 153,-379.5 \"/>\n<text text-anchor=\"middle\" x=\"104.5\" y=\"-364.3\" font-family=\"Times,serif\" font-size=\"14.00\">grad 0</text>\n</g>\n<!-- 132656520277552&#45;&gt;132656520465952+ -->\n<g id=\"edge9\" class=\"edge\">\n<title>132656520277552&#45;&gt;132656520465952+</title>\n<path fill=\"none\" stroke=\"black\" d=\"M127.09,-356.11C133.48,-346.52 140.31,-336.28 146.25,-327.37\"/>\n<polygon fill=\"black\" stroke=\"black\" points=\"149.21,-329.24 151.85,-318.98 143.39,-325.36 149.21,-329.24\"/>\n</g>\n<!-- 132656520277552* -->\n<g id=\"node4\" class=\"node\">\n<title>132656520277552*</title>\n<ellipse fill=\"none\" stroke=\"black\" cx=\"104.5\" cy=\"-480\" rx=\"27\" ry=\"18\"/>\n<text text-anchor=\"middle\" x=\"104.5\" y=\"-476.3\" font-family=\"Times,serif\" font-size=\"14.00\">*</text>\n</g>\n<!-- 132656520277552*&#45;&gt;132656520277552 -->\n<g id=\"edge2\" class=\"edge\">\n<title>132656520277552*&#45;&gt;132656520277552</title>\n<path fill=\"none\" stroke=\"black\" d=\"M104.5,-461.81C104.5,-454.33 104.5,-445.18 104.5,-436\"/>\n<polygon fill=\"black\" stroke=\"black\" points=\"108,-435.71 104.5,-425.71 101,-435.71 108,-435.71\"/>\n</g>\n<!-- 132656520473152 -->\n<g id=\"node5\" class=\"node\">\n<title>132656520473152</title>\n<polygon fill=\"none\" stroke=\"black\" points=\"61.5,-0.5 61.5,-69.5 153.5,-69.5 153.5,-0.5 61.5,-0.5\"/>\n<text text-anchor=\"middle\" x=\"107.5\" y=\"-54.3\" font-family=\"Times,serif\" font-size=\"14.00\">L</text>\n<polyline fill=\"none\" stroke=\"black\" points=\"61.5,-46.5 153.5,-46.5 \"/>\n<text text-anchor=\"middle\" x=\"107.5\" y=\"-31.3\" font-family=\"Times,serif\" font-size=\"14.00\">data = 8.0000</text>\n<polyline fill=\"none\" stroke=\"black\" points=\"61.5,-23.5 153.5,-23.5 \"/>\n<text text-anchor=\"middle\" x=\"107.5\" y=\"-8.3\" font-family=\"Times,serif\" font-size=\"14.00\">grad 0</text>\n</g>\n<!-- 132656520473152*&#45;&gt;132656520473152 -->\n<g id=\"edge3\" class=\"edge\">\n<title>132656520473152*&#45;&gt;132656520473152</title>\n<path fill=\"none\" stroke=\"black\" d=\"M107.5,-105.81C107.5,-98.33 107.5,-89.18 107.5,-80\"/>\n<polygon fill=\"black\" stroke=\"black\" points=\"111,-79.71 107.5,-69.71 104,-79.71 111,-79.71\"/>\n</g>\n<!-- 132656520408672 -->\n<g id=\"node7\" class=\"node\">\n<title>132656520408672</title>\n<polygon fill=\"none\" stroke=\"black\" points=\"171,-356.5 171,-425.5 270,-425.5 270,-356.5 171,-356.5\"/>\n<text text-anchor=\"middle\" x=\"220.5\" y=\"-410.3\" font-family=\"Times,serif\" font-size=\"14.00\">c</text>\n<polyline fill=\"none\" stroke=\"black\" points=\"171,-402.5 270,-402.5 \"/>\n<text text-anchor=\"middle\" x=\"220.5\" y=\"-387.3\" font-family=\"Times,serif\" font-size=\"14.00\">data = 10.0000</text>\n<polyline fill=\"none\" stroke=\"black\" points=\"171,-379.5 270,-379.5 \"/>\n<text text-anchor=\"middle\" x=\"220.5\" y=\"-364.3\" font-family=\"Times,serif\" font-size=\"14.00\">grad 0</text>\n</g>\n<!-- 132656520408672&#45;&gt;132656520465952+ -->\n<g id=\"edge5\" class=\"edge\">\n<title>132656520408672&#45;&gt;132656520465952+</title>\n<path fill=\"none\" stroke=\"black\" d=\"M197.91,-356.11C191.52,-346.52 184.69,-336.28 178.75,-327.37\"/>\n<polygon fill=\"black\" stroke=\"black\" points=\"181.61,-325.36 173.15,-318.98 175.79,-329.24 181.61,-325.36\"/>\n</g>\n<!-- 132656520273664 -->\n<g id=\"node8\" class=\"node\">\n<title>132656520273664</title>\n<polygon fill=\"none\" stroke=\"black\" points=\"6.5,-178.5 6.5,-247.5 98.5,-247.5 98.5,-178.5 6.5,-178.5\"/>\n<text text-anchor=\"middle\" x=\"52.5\" y=\"-232.3\" font-family=\"Times,serif\" font-size=\"14.00\">f</text>\n<polyline fill=\"none\" stroke=\"black\" points=\"6.5,-224.5 98.5,-224.5 \"/>\n<text text-anchor=\"middle\" x=\"52.5\" y=\"-209.3\" font-family=\"Times,serif\" font-size=\"14.00\">data = 2.0000</text>\n<polyline fill=\"none\" stroke=\"black\" points=\"6.5,-201.5 98.5,-201.5 \"/>\n<text text-anchor=\"middle\" x=\"52.5\" y=\"-186.3\" font-family=\"Times,serif\" font-size=\"14.00\">grad 0</text>\n</g>\n<!-- 132656520273664&#45;&gt;132656520473152* -->\n<g id=\"edge8\" class=\"edge\">\n<title>132656520273664&#45;&gt;132656520473152*</title>\n<path fill=\"none\" stroke=\"black\" d=\"M73.92,-178.11C79.92,-168.62 86.33,-158.49 91.92,-149.65\"/>\n<polygon fill=\"black\" stroke=\"black\" points=\"95.01,-151.3 97.4,-140.98 89.1,-147.56 95.01,-151.3\"/>\n</g>\n<!-- 132656520402240 -->\n<g id=\"node9\" class=\"node\">\n<title>132656520402240</title>\n<polygon fill=\"none\" stroke=\"black\" points=\"0,-534.5 0,-603.5 97,-603.5 97,-534.5 0,-534.5\"/>\n<text text-anchor=\"middle\" x=\"48.5\" y=\"-588.3\" font-family=\"Times,serif\" font-size=\"14.00\">b</text>\n<polyline fill=\"none\" stroke=\"black\" points=\"0,-580.5 97,-580.5 \"/>\n<text text-anchor=\"middle\" x=\"48.5\" y=\"-565.3\" font-family=\"Times,serif\" font-size=\"14.00\">data = &#45;3.0000</text>\n<polyline fill=\"none\" stroke=\"black\" points=\"0,-557.5 97,-557.5 \"/>\n<text text-anchor=\"middle\" x=\"48.5\" y=\"-542.3\" font-family=\"Times,serif\" font-size=\"14.00\">grad 0</text>\n</g>\n<!-- 132656520402240&#45;&gt;132656520277552* -->\n<g id=\"edge6\" class=\"edge\">\n<title>132656520402240&#45;&gt;132656520277552*</title>\n<path fill=\"none\" stroke=\"black\" d=\"M70.31,-534.11C76.42,-524.62 82.94,-514.49 88.63,-505.65\"/>\n<polygon fill=\"black\" stroke=\"black\" points=\"91.74,-507.28 94.21,-496.98 85.86,-503.49 91.74,-507.28\"/>\n</g>\n<!-- 132656520406368 -->\n<g id=\"node10\" class=\"node\">\n<title>132656520406368</title>\n<polygon fill=\"none\" stroke=\"black\" points=\"115.5,-534.5 115.5,-603.5 207.5,-603.5 207.5,-534.5 115.5,-534.5\"/>\n<text text-anchor=\"middle\" x=\"161.5\" y=\"-588.3\" font-family=\"Times,serif\" font-size=\"14.00\">a</text>\n<polyline fill=\"none\" stroke=\"black\" points=\"115.5,-580.5 207.5,-580.5 \"/>\n<text text-anchor=\"middle\" x=\"161.5\" y=\"-565.3\" font-family=\"Times,serif\" font-size=\"14.00\">data = 2.0000</text>\n<polyline fill=\"none\" stroke=\"black\" points=\"115.5,-557.5 207.5,-557.5 \"/>\n<text text-anchor=\"middle\" x=\"161.5\" y=\"-542.3\" font-family=\"Times,serif\" font-size=\"14.00\">grad 0</text>\n</g>\n<!-- 132656520406368&#45;&gt;132656520277552* -->\n<g id=\"edge7\" class=\"edge\">\n<title>132656520406368&#45;&gt;132656520277552*</title>\n<path fill=\"none\" stroke=\"black\" d=\"M139.3,-534.11C133.02,-524.52 126.3,-514.28 120.47,-505.37\"/>\n<polygon fill=\"black\" stroke=\"black\" points=\"123.38,-503.43 114.97,-496.98 117.52,-507.26 123.38,-503.43\"/>\n</g>\n</g>\n</svg>\n",
            "text/plain": [
              "<graphviz.graphs.Digraph at 0x78a680cdd360>"
            ]
          },
          "metadata": {},
          "execution_count": 100
        }
      ],
      "source": [
        "draw_dot(L)"
      ]
    },
    {
      "cell_type": "code",
      "source": [
        "def lol():\n",
        "  h = 0.001\n",
        "\n",
        "  a=Value(2.0, label= 'a')\n",
        "  b=Value(-3.0, label = 'b')\n",
        "  c=Value(10.0, label = 'c')\n",
        "  d=a*b ;d.label = 'd'\n",
        "  e = d+c;e.label= 'e'\n",
        "  f=Value(2.0, label = 'f')\n",
        "  L = e*f;L.label = 'L'\n",
        "  L1=L.data\n",
        "\n",
        "  a=Value(2.0, label= 'a')\n",
        "  b=Value(-3.0, label = 'b')\n",
        "  c=Value(10.0, label = 'c')\n",
        "  d=a*b ;d.label = 'd'\n",
        "  e = d+c;e.label= 'e'\n",
        "  f=Value(2.0, label = 'f')\n",
        "  L = e*f;L.label = 'L'\n",
        "  L2=L.data\n",
        "  print((L2-L1)/h)\n",
        "lol()"
      ],
      "metadata": {
        "colab": {
          "base_uri": "https://localhost:8080/"
        },
        "id": "hrQDZ4DwvWjP",
        "outputId": "b5d91d3f-3f68-4a31-9550-007992edfe67"
      },
      "execution_count": 101,
      "outputs": [
        {
          "output_type": "stream",
          "name": "stdout",
          "text": [
            "0.0\n"
          ]
        }
      ]
    },
    {
      "cell_type": "code",
      "source": [
        "x1 = Value(2, label='x1')\n",
        "x2 = Value(0, label='x2')\n",
        "w1 = Value(-3, label='w1')\n",
        "w2 = Value(1, label='w2')\n",
        "b = Value(1.0, label='b')\n",
        "x1w1=x1*w1;x1w1.label='x1*w1'\n",
        "x2w2=x2*w2;x2w2.label='x2*w2'\n",
        "x1w1x2w2=x1w1+x2w2;x1w1x2w2.label='x1*w1+x2*w2'\n",
        "n=x1w1x2w2+b;n.label='n'\n",
        "o=n.tanh();o.label='o'\n",
        "draw_dot(o)\n"
      ],
      "metadata": {
        "colab": {
          "base_uri": "https://localhost:8080/",
          "height": 1000
        },
        "id": "vz2KBA8-QUQh",
        "outputId": "fb1a7637-5c0e-4eb0-f2ca-70bf383b9908"
      },
      "execution_count": 102,
      "outputs": [
        {
          "output_type": "execute_result",
          "data": {
            "image/svg+xml": "<?xml version=\"1.0\" encoding=\"UTF-8\" standalone=\"no\"?>\n<!DOCTYPE svg PUBLIC \"-//W3C//DTD SVG 1.1//EN\"\n \"http://www.w3.org/Graphics/SVG/1.1/DTD/svg11.dtd\">\n<!-- Generated by graphviz version 2.43.0 (0)\n -->\n<!-- Title: %3 Pages: 1 -->\n<svg width=\"437pt\" height=\"790pt\"\n viewBox=\"0.00 0.00 436.50 790.00\" xmlns=\"http://www.w3.org/2000/svg\" xmlns:xlink=\"http://www.w3.org/1999/xlink\">\n<g id=\"graph0\" class=\"graph\" transform=\"scale(1 1) rotate(0) translate(4 786)\">\n<title>%3</title>\n<polygon fill=\"white\" stroke=\"transparent\" points=\"-4,4 -4,-786 432.5,-786 432.5,4 -4,4\"/>\n<!-- 132656520477184 -->\n<g id=\"node1\" class=\"node\">\n<title>132656520477184</title>\n<polygon fill=\"none\" stroke=\"black\" points=\"105.5,-178.5 105.5,-247.5 202.5,-247.5 202.5,-178.5 105.5,-178.5\"/>\n<text text-anchor=\"middle\" x=\"154\" y=\"-232.3\" font-family=\"Times,serif\" font-size=\"14.00\">n</text>\n<polyline fill=\"none\" stroke=\"black\" points=\"105.5,-224.5 202.5,-224.5 \"/>\n<text text-anchor=\"middle\" x=\"154\" y=\"-209.3\" font-family=\"Times,serif\" font-size=\"14.00\">data = &#45;5.0000</text>\n<polyline fill=\"none\" stroke=\"black\" points=\"105.5,-201.5 202.5,-201.5 \"/>\n<text text-anchor=\"middle\" x=\"154\" y=\"-186.3\" font-family=\"Times,serif\" font-size=\"14.00\">grad 0</text>\n</g>\n<!-- 132656520477280tanh -->\n<g id=\"node4\" class=\"node\">\n<title>132656520477280tanh</title>\n<ellipse fill=\"none\" stroke=\"black\" cx=\"154\" cy=\"-124\" rx=\"27\" ry=\"18\"/>\n<text text-anchor=\"middle\" x=\"154\" y=\"-120.3\" font-family=\"Times,serif\" font-size=\"14.00\">tanh</text>\n</g>\n<!-- 132656520477184&#45;&gt;132656520477280tanh -->\n<g id=\"edge9\" class=\"edge\">\n<title>132656520477184&#45;&gt;132656520477280tanh</title>\n<path fill=\"none\" stroke=\"black\" d=\"M154,-178.11C154,-169.62 154,-160.61 154,-152.48\"/>\n<polygon fill=\"black\" stroke=\"black\" points=\"157.5,-152.4 154,-142.4 150.5,-152.4 157.5,-152.4\"/>\n</g>\n<!-- 132656520477184+ -->\n<g id=\"node2\" class=\"node\">\n<title>132656520477184+</title>\n<ellipse fill=\"none\" stroke=\"black\" cx=\"154\" cy=\"-302\" rx=\"27\" ry=\"18\"/>\n<text text-anchor=\"middle\" x=\"154\" y=\"-298.3\" font-family=\"Times,serif\" font-size=\"14.00\">+</text>\n</g>\n<!-- 132656520477184+&#45;&gt;132656520477184 -->\n<g id=\"edge1\" class=\"edge\">\n<title>132656520477184+&#45;&gt;132656520477184</title>\n<path fill=\"none\" stroke=\"black\" d=\"M154,-283.81C154,-276.33 154,-267.18 154,-258\"/>\n<polygon fill=\"black\" stroke=\"black\" points=\"157.5,-257.71 154,-247.71 150.5,-257.71 157.5,-257.71\"/>\n</g>\n<!-- 132656520477280 -->\n<g id=\"node3\" class=\"node\">\n<title>132656520477280</title>\n<polygon fill=\"none\" stroke=\"black\" points=\"105.5,-0.5 105.5,-69.5 202.5,-69.5 202.5,-0.5 105.5,-0.5\"/>\n<text text-anchor=\"middle\" x=\"154\" y=\"-54.3\" font-family=\"Times,serif\" font-size=\"14.00\">o</text>\n<polyline fill=\"none\" stroke=\"black\" points=\"105.5,-46.5 202.5,-46.5 \"/>\n<text text-anchor=\"middle\" x=\"154\" y=\"-31.3\" font-family=\"Times,serif\" font-size=\"14.00\">data = &#45;0.9999</text>\n<polyline fill=\"none\" stroke=\"black\" points=\"105.5,-23.5 202.5,-23.5 \"/>\n<text text-anchor=\"middle\" x=\"154\" y=\"-8.3\" font-family=\"Times,serif\" font-size=\"14.00\">grad 0</text>\n</g>\n<!-- 132656520477280tanh&#45;&gt;132656520477280 -->\n<g id=\"edge2\" class=\"edge\">\n<title>132656520477280tanh&#45;&gt;132656520477280</title>\n<path fill=\"none\" stroke=\"black\" d=\"M154,-105.81C154,-98.33 154,-89.18 154,-80\"/>\n<polygon fill=\"black\" stroke=\"black\" points=\"157.5,-79.71 154,-69.71 150.5,-79.71 157.5,-79.71\"/>\n</g>\n<!-- 132656520275056 -->\n<g id=\"node5\" class=\"node\">\n<title>132656520275056</title>\n<polygon fill=\"none\" stroke=\"black\" points=\"0,-712.5 0,-781.5 92,-781.5 92,-712.5 0,-712.5\"/>\n<text text-anchor=\"middle\" x=\"46\" y=\"-766.3\" font-family=\"Times,serif\" font-size=\"14.00\">w2</text>\n<polyline fill=\"none\" stroke=\"black\" points=\"0,-758.5 92,-758.5 \"/>\n<text text-anchor=\"middle\" x=\"46\" y=\"-743.3\" font-family=\"Times,serif\" font-size=\"14.00\">data = 1.0000</text>\n<polyline fill=\"none\" stroke=\"black\" points=\"0,-735.5 92,-735.5 \"/>\n<text text-anchor=\"middle\" x=\"46\" y=\"-720.3\" font-family=\"Times,serif\" font-size=\"14.00\">grad 0</text>\n</g>\n<!-- 132656520400128* -->\n<g id=\"node11\" class=\"node\">\n<title>132656520400128*</title>\n<ellipse fill=\"none\" stroke=\"black\" cx=\"155\" cy=\"-658\" rx=\"27\" ry=\"18\"/>\n<text text-anchor=\"middle\" x=\"155\" y=\"-654.3\" font-family=\"Times,serif\" font-size=\"14.00\">*</text>\n</g>\n<!-- 132656520275056&#45;&gt;132656520400128* -->\n<g id=\"edge6\" class=\"edge\">\n<title>132656520275056&#45;&gt;132656520400128*</title>\n<path fill=\"none\" stroke=\"black\" d=\"M88.14,-712.36C102.36,-701.02 117.75,-688.73 130.18,-678.81\"/>\n<polygon fill=\"black\" stroke=\"black\" points=\"132.63,-681.33 138.27,-672.36 128.27,-675.86 132.63,-681.33\"/>\n</g>\n<!-- 132656520275584 -->\n<g id=\"node6\" class=\"node\">\n<title>132656520275584</title>\n<polygon fill=\"none\" stroke=\"black\" points=\"52,-356.5 52,-425.5 144,-425.5 144,-356.5 52,-356.5\"/>\n<text text-anchor=\"middle\" x=\"98\" y=\"-410.3\" font-family=\"Times,serif\" font-size=\"14.00\">b</text>\n<polyline fill=\"none\" stroke=\"black\" points=\"52,-402.5 144,-402.5 \"/>\n<text text-anchor=\"middle\" x=\"98\" y=\"-387.3\" font-family=\"Times,serif\" font-size=\"14.00\">data = 1.0000</text>\n<polyline fill=\"none\" stroke=\"black\" points=\"52,-379.5 144,-379.5 \"/>\n<text text-anchor=\"middle\" x=\"98\" y=\"-364.3\" font-family=\"Times,serif\" font-size=\"14.00\">grad 0</text>\n</g>\n<!-- 132656520275584&#45;&gt;132656520477184+ -->\n<g id=\"edge14\" class=\"edge\">\n<title>132656520275584&#45;&gt;132656520477184+</title>\n<path fill=\"none\" stroke=\"black\" d=\"M119.81,-356.11C125.92,-346.62 132.44,-336.49 138.13,-327.65\"/>\n<polygon fill=\"black\" stroke=\"black\" points=\"141.24,-329.28 143.71,-318.98 135.36,-325.49 141.24,-329.28\"/>\n</g>\n<!-- 132656523467440 -->\n<g id=\"node7\" class=\"node\">\n<title>132656523467440</title>\n<polygon fill=\"none\" stroke=\"black\" points=\"110,-712.5 110,-781.5 202,-781.5 202,-712.5 110,-712.5\"/>\n<text text-anchor=\"middle\" x=\"156\" y=\"-766.3\" font-family=\"Times,serif\" font-size=\"14.00\">x2</text>\n<polyline fill=\"none\" stroke=\"black\" points=\"110,-758.5 202,-758.5 \"/>\n<text text-anchor=\"middle\" x=\"156\" y=\"-743.3\" font-family=\"Times,serif\" font-size=\"14.00\">data = 0.0000</text>\n<polyline fill=\"none\" stroke=\"black\" points=\"110,-735.5 202,-735.5 \"/>\n<text text-anchor=\"middle\" x=\"156\" y=\"-720.3\" font-family=\"Times,serif\" font-size=\"14.00\">grad 0</text>\n</g>\n<!-- 132656523467440&#45;&gt;132656520400128* -->\n<g id=\"edge8\" class=\"edge\">\n<title>132656523467440&#45;&gt;132656520400128*</title>\n<path fill=\"none\" stroke=\"black\" d=\"M155.61,-712.11C155.51,-703.62 155.41,-694.61 155.32,-686.48\"/>\n<polygon fill=\"black\" stroke=\"black\" points=\"158.81,-686.36 155.2,-676.4 151.82,-686.44 158.81,-686.36\"/>\n</g>\n<!-- 132656520279232 -->\n<g id=\"node8\" class=\"node\">\n<title>132656520279232</title>\n<polygon fill=\"none\" stroke=\"black\" points=\"221,-712.5 221,-781.5 313,-781.5 313,-712.5 221,-712.5\"/>\n<text text-anchor=\"middle\" x=\"267\" y=\"-766.3\" font-family=\"Times,serif\" font-size=\"14.00\">x1</text>\n<polyline fill=\"none\" stroke=\"black\" points=\"221,-758.5 313,-758.5 \"/>\n<text text-anchor=\"middle\" x=\"267\" y=\"-743.3\" font-family=\"Times,serif\" font-size=\"14.00\">data = 2.0000</text>\n<polyline fill=\"none\" stroke=\"black\" points=\"221,-735.5 313,-735.5 \"/>\n<text text-anchor=\"middle\" x=\"267\" y=\"-720.3\" font-family=\"Times,serif\" font-size=\"14.00\">grad 0</text>\n</g>\n<!-- 132656520408912* -->\n<g id=\"node15\" class=\"node\">\n<title>132656520408912*</title>\n<ellipse fill=\"none\" stroke=\"black\" cx=\"268\" cy=\"-658\" rx=\"27\" ry=\"18\"/>\n<text text-anchor=\"middle\" x=\"268\" y=\"-654.3\" font-family=\"Times,serif\" font-size=\"14.00\">*</text>\n</g>\n<!-- 132656520279232&#45;&gt;132656520408912* -->\n<g id=\"edge7\" class=\"edge\">\n<title>132656520279232&#45;&gt;132656520408912*</title>\n<path fill=\"none\" stroke=\"black\" d=\"M267.39,-712.11C267.49,-703.62 267.59,-694.61 267.68,-686.48\"/>\n<polygon fill=\"black\" stroke=\"black\" points=\"271.18,-686.44 267.8,-676.4 264.19,-686.36 271.18,-686.44\"/>\n</g>\n<!-- 132656520273616 -->\n<g id=\"node9\" class=\"node\">\n<title>132656520273616</title>\n<polygon fill=\"none\" stroke=\"black\" points=\"331.5,-712.5 331.5,-781.5 428.5,-781.5 428.5,-712.5 331.5,-712.5\"/>\n<text text-anchor=\"middle\" x=\"380\" y=\"-766.3\" font-family=\"Times,serif\" font-size=\"14.00\">w1</text>\n<polyline fill=\"none\" stroke=\"black\" points=\"331.5,-758.5 428.5,-758.5 \"/>\n<text text-anchor=\"middle\" x=\"380\" y=\"-743.3\" font-family=\"Times,serif\" font-size=\"14.00\">data = &#45;3.0000</text>\n<polyline fill=\"none\" stroke=\"black\" points=\"331.5,-735.5 428.5,-735.5 \"/>\n<text text-anchor=\"middle\" x=\"380\" y=\"-720.3\" font-family=\"Times,serif\" font-size=\"14.00\">grad 0</text>\n</g>\n<!-- 132656520273616&#45;&gt;132656520408912* -->\n<g id=\"edge10\" class=\"edge\">\n<title>132656520273616&#45;&gt;132656520408912*</title>\n<path fill=\"none\" stroke=\"black\" d=\"M336.7,-712.36C321.85,-700.83 305.75,-688.32 292.87,-678.32\"/>\n<polygon fill=\"black\" stroke=\"black\" points=\"294.96,-675.51 284.91,-672.14 290.66,-681.04 294.96,-675.51\"/>\n</g>\n<!-- 132656520400128 -->\n<g id=\"node10\" class=\"node\">\n<title>132656520400128</title>\n<polygon fill=\"none\" stroke=\"black\" points=\"109,-534.5 109,-603.5 201,-603.5 201,-534.5 109,-534.5\"/>\n<text text-anchor=\"middle\" x=\"155\" y=\"-588.3\" font-family=\"Times,serif\" font-size=\"14.00\">x2*w2</text>\n<polyline fill=\"none\" stroke=\"black\" points=\"109,-580.5 201,-580.5 \"/>\n<text text-anchor=\"middle\" x=\"155\" y=\"-565.3\" font-family=\"Times,serif\" font-size=\"14.00\">data = 0.0000</text>\n<polyline fill=\"none\" stroke=\"black\" points=\"109,-557.5 201,-557.5 \"/>\n<text text-anchor=\"middle\" x=\"155\" y=\"-542.3\" font-family=\"Times,serif\" font-size=\"14.00\">grad 0</text>\n</g>\n<!-- 132656520402768+ -->\n<g id=\"node13\" class=\"node\">\n<title>132656520402768+</title>\n<ellipse fill=\"none\" stroke=\"black\" cx=\"211\" cy=\"-480\" rx=\"27\" ry=\"18\"/>\n<text text-anchor=\"middle\" x=\"211\" y=\"-476.3\" font-family=\"Times,serif\" font-size=\"14.00\">+</text>\n</g>\n<!-- 132656520400128&#45;&gt;132656520402768+ -->\n<g id=\"edge11\" class=\"edge\">\n<title>132656520400128&#45;&gt;132656520402768+</title>\n<path fill=\"none\" stroke=\"black\" d=\"M176.81,-534.11C182.92,-524.62 189.44,-514.49 195.13,-505.65\"/>\n<polygon fill=\"black\" stroke=\"black\" points=\"198.24,-507.28 200.71,-496.98 192.36,-503.49 198.24,-507.28\"/>\n</g>\n<!-- 132656520400128*&#45;&gt;132656520400128 -->\n<g id=\"edge3\" class=\"edge\">\n<title>132656520400128*&#45;&gt;132656520400128</title>\n<path fill=\"none\" stroke=\"black\" d=\"M155,-639.81C155,-632.33 155,-623.18 155,-614\"/>\n<polygon fill=\"black\" stroke=\"black\" points=\"158.5,-613.71 155,-603.71 151.5,-613.71 158.5,-613.71\"/>\n</g>\n<!-- 132656520402768 -->\n<g id=\"node12\" class=\"node\">\n<title>132656520402768</title>\n<polygon fill=\"none\" stroke=\"black\" points=\"162,-356.5 162,-425.5 260,-425.5 260,-356.5 162,-356.5\"/>\n<text text-anchor=\"middle\" x=\"211\" y=\"-410.3\" font-family=\"Times,serif\" font-size=\"14.00\">x1*w1+x2*w2</text>\n<polyline fill=\"none\" stroke=\"black\" points=\"162,-402.5 260,-402.5 \"/>\n<text text-anchor=\"middle\" x=\"211\" y=\"-387.3\" font-family=\"Times,serif\" font-size=\"14.00\">data = &#45;6.0000</text>\n<polyline fill=\"none\" stroke=\"black\" points=\"162,-379.5 260,-379.5 \"/>\n<text text-anchor=\"middle\" x=\"211\" y=\"-364.3\" font-family=\"Times,serif\" font-size=\"14.00\">grad 0</text>\n</g>\n<!-- 132656520402768&#45;&gt;132656520477184+ -->\n<g id=\"edge13\" class=\"edge\">\n<title>132656520402768&#45;&gt;132656520477184+</title>\n<path fill=\"none\" stroke=\"black\" d=\"M188.8,-356.11C182.52,-346.52 175.8,-336.28 169.97,-327.37\"/>\n<polygon fill=\"black\" stroke=\"black\" points=\"172.88,-325.43 164.47,-318.98 167.02,-329.26 172.88,-325.43\"/>\n</g>\n<!-- 132656520402768+&#45;&gt;132656520402768 -->\n<g id=\"edge4\" class=\"edge\">\n<title>132656520402768+&#45;&gt;132656520402768</title>\n<path fill=\"none\" stroke=\"black\" d=\"M211,-461.81C211,-454.33 211,-445.18 211,-436\"/>\n<polygon fill=\"black\" stroke=\"black\" points=\"214.5,-435.71 211,-425.71 207.5,-435.71 214.5,-435.71\"/>\n</g>\n<!-- 132656520408912 -->\n<g id=\"node14\" class=\"node\">\n<title>132656520408912</title>\n<polygon fill=\"none\" stroke=\"black\" points=\"219.5,-534.5 219.5,-603.5 316.5,-603.5 316.5,-534.5 219.5,-534.5\"/>\n<text text-anchor=\"middle\" x=\"268\" y=\"-588.3\" font-family=\"Times,serif\" font-size=\"14.00\">x1*w1</text>\n<polyline fill=\"none\" stroke=\"black\" points=\"219.5,-580.5 316.5,-580.5 \"/>\n<text text-anchor=\"middle\" x=\"268\" y=\"-565.3\" font-family=\"Times,serif\" font-size=\"14.00\">data = &#45;6.0000</text>\n<polyline fill=\"none\" stroke=\"black\" points=\"219.5,-557.5 316.5,-557.5 \"/>\n<text text-anchor=\"middle\" x=\"268\" y=\"-542.3\" font-family=\"Times,serif\" font-size=\"14.00\">grad 0</text>\n</g>\n<!-- 132656520408912&#45;&gt;132656520402768+ -->\n<g id=\"edge12\" class=\"edge\">\n<title>132656520408912&#45;&gt;132656520402768+</title>\n<path fill=\"none\" stroke=\"black\" d=\"M245.8,-534.11C239.52,-524.52 232.8,-514.28 226.97,-505.37\"/>\n<polygon fill=\"black\" stroke=\"black\" points=\"229.88,-503.43 221.47,-496.98 224.02,-507.26 229.88,-503.43\"/>\n</g>\n<!-- 132656520408912*&#45;&gt;132656520408912 -->\n<g id=\"edge5\" class=\"edge\">\n<title>132656520408912*&#45;&gt;132656520408912</title>\n<path fill=\"none\" stroke=\"black\" d=\"M268,-639.81C268,-632.33 268,-623.18 268,-614\"/>\n<polygon fill=\"black\" stroke=\"black\" points=\"271.5,-613.71 268,-603.71 264.5,-613.71 271.5,-613.71\"/>\n</g>\n</g>\n</svg>\n",
            "text/plain": [
              "<graphviz.graphs.Digraph at 0x78a680c6a3e0>"
            ]
          },
          "metadata": {},
          "execution_count": 102
        }
      ]
    },
    {
      "cell_type": "code",
      "source": [
        "o._backward()"
      ],
      "metadata": {
        "id": "LyrTqNIeTBI0"
      },
      "execution_count": 103,
      "outputs": []
    },
    {
      "cell_type": "code",
      "source": [
        "n._backward()"
      ],
      "metadata": {
        "id": "8RqIoPBtVHzK"
      },
      "execution_count": 104,
      "outputs": []
    },
    {
      "cell_type": "code",
      "source": [
        "b._backward()"
      ],
      "metadata": {
        "id": "T9ea0aPaVMvK"
      },
      "execution_count": 105,
      "outputs": []
    },
    {
      "cell_type": "code",
      "source": [
        "x1w1x2w2._backward()"
      ],
      "metadata": {
        "id": "6BACdp5kVeik"
      },
      "execution_count": 106,
      "outputs": []
    },
    {
      "cell_type": "code",
      "source": [
        "x1w1._backward()\n",
        "x2w2._backward()"
      ],
      "metadata": {
        "id": "MWeCGNvAVRXB"
      },
      "execution_count": 107,
      "outputs": []
    },
    {
      "cell_type": "code",
      "source": [
        "x1.grad = w1.data * x1w1.grad\n",
        "x2.grad = w2.data * x2w2.grad"
      ],
      "metadata": {
        "id": "xB0-ZBNOVTje"
      },
      "execution_count": 108,
      "outputs": []
    },
    {
      "cell_type": "code",
      "source": [
        "w1.grad = x1.data * x1w1.grad\n",
        "w2.grad = x2.data * x2w2.grad"
      ],
      "metadata": {
        "id": "fOyOf4KvVoeV"
      },
      "execution_count": 109,
      "outputs": []
    },
    {
      "cell_type": "code",
      "source": [
        "o.grad=1.0\n",
        "n.grad = 0.5\n",
        "x1w1x2w2.grad = 1.0\n",
        "x1w1.grad = 1.0\n",
        "x2w2.grad = 1.0\n",
        "x2.grad = 1.0\n",
        "x1.grad = 1.0\n",
        "b.grad = 1.0"
      ],
      "metadata": {
        "id": "ENRsCB7mZJzv"
      },
      "execution_count": 110,
      "outputs": []
    },
    {
      "cell_type": "code",
      "source": [
        "o.backward()"
      ],
      "metadata": {
        "id": "DoIytG0MXdGS"
      },
      "execution_count": 112,
      "outputs": []
    },
    {
      "cell_type": "code",
      "source": [
        "draw_dot(o)"
      ],
      "metadata": {
        "colab": {
          "base_uri": "https://localhost:8080/",
          "height": 1000
        },
        "id": "7nqwr6FdYd5-",
        "outputId": "3d96f7c0-463b-47d9-9708-748cecd8b804"
      },
      "execution_count": 113,
      "outputs": [
        {
          "output_type": "execute_result",
          "data": {
            "image/svg+xml": "<?xml version=\"1.0\" encoding=\"UTF-8\" standalone=\"no\"?>\n<!DOCTYPE svg PUBLIC \"-//W3C//DTD SVG 1.1//EN\"\n \"http://www.w3.org/Graphics/SVG/1.1/DTD/svg11.dtd\">\n<!-- Generated by graphviz version 2.43.0 (0)\n -->\n<!-- Title: %3 Pages: 1 -->\n<svg width=\"437pt\" height=\"790pt\"\n viewBox=\"0.00 0.00 436.50 790.00\" xmlns=\"http://www.w3.org/2000/svg\" xmlns:xlink=\"http://www.w3.org/1999/xlink\">\n<g id=\"graph0\" class=\"graph\" transform=\"scale(1 1) rotate(0) translate(4 786)\">\n<title>%3</title>\n<polygon fill=\"white\" stroke=\"transparent\" points=\"-4,4 -4,-786 432.5,-786 432.5,4 -4,4\"/>\n<!-- 132656520477184 -->\n<g id=\"node1\" class=\"node\">\n<title>132656520477184</title>\n<polygon fill=\"none\" stroke=\"black\" points=\"105.5,-178.5 105.5,-247.5 202.5,-247.5 202.5,-178.5 105.5,-178.5\"/>\n<text text-anchor=\"middle\" x=\"154\" y=\"-232.3\" font-family=\"Times,serif\" font-size=\"14.00\">n</text>\n<polyline fill=\"none\" stroke=\"black\" points=\"105.5,-224.5 202.5,-224.5 \"/>\n<text text-anchor=\"middle\" x=\"154\" y=\"-209.3\" font-family=\"Times,serif\" font-size=\"14.00\">data = &#45;5.0000</text>\n<polyline fill=\"none\" stroke=\"black\" points=\"105.5,-201.5 202.5,-201.5 \"/>\n<text text-anchor=\"middle\" x=\"154\" y=\"-186.3\" font-family=\"Times,serif\" font-size=\"14.00\">grad 0</text>\n</g>\n<!-- 132656520477280tanh -->\n<g id=\"node4\" class=\"node\">\n<title>132656520477280tanh</title>\n<ellipse fill=\"none\" stroke=\"black\" cx=\"154\" cy=\"-124\" rx=\"27\" ry=\"18\"/>\n<text text-anchor=\"middle\" x=\"154\" y=\"-120.3\" font-family=\"Times,serif\" font-size=\"14.00\">tanh</text>\n</g>\n<!-- 132656520477184&#45;&gt;132656520477280tanh -->\n<g id=\"edge9\" class=\"edge\">\n<title>132656520477184&#45;&gt;132656520477280tanh</title>\n<path fill=\"none\" stroke=\"black\" d=\"M154,-178.11C154,-169.62 154,-160.61 154,-152.48\"/>\n<polygon fill=\"black\" stroke=\"black\" points=\"157.5,-152.4 154,-142.4 150.5,-152.4 157.5,-152.4\"/>\n</g>\n<!-- 132656520477184+ -->\n<g id=\"node2\" class=\"node\">\n<title>132656520477184+</title>\n<ellipse fill=\"none\" stroke=\"black\" cx=\"154\" cy=\"-302\" rx=\"27\" ry=\"18\"/>\n<text text-anchor=\"middle\" x=\"154\" y=\"-298.3\" font-family=\"Times,serif\" font-size=\"14.00\">+</text>\n</g>\n<!-- 132656520477184+&#45;&gt;132656520477184 -->\n<g id=\"edge1\" class=\"edge\">\n<title>132656520477184+&#45;&gt;132656520477184</title>\n<path fill=\"none\" stroke=\"black\" d=\"M154,-283.81C154,-276.33 154,-267.18 154,-258\"/>\n<polygon fill=\"black\" stroke=\"black\" points=\"157.5,-257.71 154,-247.71 150.5,-257.71 157.5,-257.71\"/>\n</g>\n<!-- 132656520477280 -->\n<g id=\"node3\" class=\"node\">\n<title>132656520477280</title>\n<polygon fill=\"none\" stroke=\"black\" points=\"105.5,-0.5 105.5,-69.5 202.5,-69.5 202.5,-0.5 105.5,-0.5\"/>\n<text text-anchor=\"middle\" x=\"154\" y=\"-54.3\" font-family=\"Times,serif\" font-size=\"14.00\">o</text>\n<polyline fill=\"none\" stroke=\"black\" points=\"105.5,-46.5 202.5,-46.5 \"/>\n<text text-anchor=\"middle\" x=\"154\" y=\"-31.3\" font-family=\"Times,serif\" font-size=\"14.00\">data = &#45;0.9999</text>\n<polyline fill=\"none\" stroke=\"black\" points=\"105.5,-23.5 202.5,-23.5 \"/>\n<text text-anchor=\"middle\" x=\"154\" y=\"-8.3\" font-family=\"Times,serif\" font-size=\"14.00\">grad 1</text>\n</g>\n<!-- 132656520477280tanh&#45;&gt;132656520477280 -->\n<g id=\"edge2\" class=\"edge\">\n<title>132656520477280tanh&#45;&gt;132656520477280</title>\n<path fill=\"none\" stroke=\"black\" d=\"M154,-105.81C154,-98.33 154,-89.18 154,-80\"/>\n<polygon fill=\"black\" stroke=\"black\" points=\"157.5,-79.71 154,-69.71 150.5,-79.71 157.5,-79.71\"/>\n</g>\n<!-- 132656520275056 -->\n<g id=\"node5\" class=\"node\">\n<title>132656520275056</title>\n<polygon fill=\"none\" stroke=\"black\" points=\"0,-712.5 0,-781.5 92,-781.5 92,-712.5 0,-712.5\"/>\n<text text-anchor=\"middle\" x=\"46\" y=\"-766.3\" font-family=\"Times,serif\" font-size=\"14.00\">w2</text>\n<polyline fill=\"none\" stroke=\"black\" points=\"0,-758.5 92,-758.5 \"/>\n<text text-anchor=\"middle\" x=\"46\" y=\"-743.3\" font-family=\"Times,serif\" font-size=\"14.00\">data = 1.0000</text>\n<polyline fill=\"none\" stroke=\"black\" points=\"0,-735.5 92,-735.5 \"/>\n<text text-anchor=\"middle\" x=\"46\" y=\"-720.3\" font-family=\"Times,serif\" font-size=\"14.00\">grad 0</text>\n</g>\n<!-- 132656520400128* -->\n<g id=\"node11\" class=\"node\">\n<title>132656520400128*</title>\n<ellipse fill=\"none\" stroke=\"black\" cx=\"155\" cy=\"-658\" rx=\"27\" ry=\"18\"/>\n<text text-anchor=\"middle\" x=\"155\" y=\"-654.3\" font-family=\"Times,serif\" font-size=\"14.00\">*</text>\n</g>\n<!-- 132656520275056&#45;&gt;132656520400128* -->\n<g id=\"edge6\" class=\"edge\">\n<title>132656520275056&#45;&gt;132656520400128*</title>\n<path fill=\"none\" stroke=\"black\" d=\"M88.14,-712.36C102.36,-701.02 117.75,-688.73 130.18,-678.81\"/>\n<polygon fill=\"black\" stroke=\"black\" points=\"132.63,-681.33 138.27,-672.36 128.27,-675.86 132.63,-681.33\"/>\n</g>\n<!-- 132656520275584 -->\n<g id=\"node6\" class=\"node\">\n<title>132656520275584</title>\n<polygon fill=\"none\" stroke=\"black\" points=\"52,-356.5 52,-425.5 144,-425.5 144,-356.5 52,-356.5\"/>\n<text text-anchor=\"middle\" x=\"98\" y=\"-410.3\" font-family=\"Times,serif\" font-size=\"14.00\">b</text>\n<polyline fill=\"none\" stroke=\"black\" points=\"52,-402.5 144,-402.5 \"/>\n<text text-anchor=\"middle\" x=\"98\" y=\"-387.3\" font-family=\"Times,serif\" font-size=\"14.00\">data = 1.0000</text>\n<polyline fill=\"none\" stroke=\"black\" points=\"52,-379.5 144,-379.5 \"/>\n<text text-anchor=\"middle\" x=\"98\" y=\"-364.3\" font-family=\"Times,serif\" font-size=\"14.00\">grad 1</text>\n</g>\n<!-- 132656520275584&#45;&gt;132656520477184+ -->\n<g id=\"edge14\" class=\"edge\">\n<title>132656520275584&#45;&gt;132656520477184+</title>\n<path fill=\"none\" stroke=\"black\" d=\"M119.81,-356.11C125.92,-346.62 132.44,-336.49 138.13,-327.65\"/>\n<polygon fill=\"black\" stroke=\"black\" points=\"141.24,-329.28 143.71,-318.98 135.36,-325.49 141.24,-329.28\"/>\n</g>\n<!-- 132656523467440 -->\n<g id=\"node7\" class=\"node\">\n<title>132656523467440</title>\n<polygon fill=\"none\" stroke=\"black\" points=\"110,-712.5 110,-781.5 202,-781.5 202,-712.5 110,-712.5\"/>\n<text text-anchor=\"middle\" x=\"156\" y=\"-766.3\" font-family=\"Times,serif\" font-size=\"14.00\">x2</text>\n<polyline fill=\"none\" stroke=\"black\" points=\"110,-758.5 202,-758.5 \"/>\n<text text-anchor=\"middle\" x=\"156\" y=\"-743.3\" font-family=\"Times,serif\" font-size=\"14.00\">data = 0.0000</text>\n<polyline fill=\"none\" stroke=\"black\" points=\"110,-735.5 202,-735.5 \"/>\n<text text-anchor=\"middle\" x=\"156\" y=\"-720.3\" font-family=\"Times,serif\" font-size=\"14.00\">grad 3</text>\n</g>\n<!-- 132656523467440&#45;&gt;132656520400128* -->\n<g id=\"edge8\" class=\"edge\">\n<title>132656523467440&#45;&gt;132656520400128*</title>\n<path fill=\"none\" stroke=\"black\" d=\"M155.61,-712.11C155.51,-703.62 155.41,-694.61 155.32,-686.48\"/>\n<polygon fill=\"black\" stroke=\"black\" points=\"158.81,-686.36 155.2,-676.4 151.82,-686.44 158.81,-686.36\"/>\n</g>\n<!-- 132656520279232 -->\n<g id=\"node8\" class=\"node\">\n<title>132656520279232</title>\n<polygon fill=\"none\" stroke=\"black\" points=\"221,-712.5 221,-781.5 313,-781.5 313,-712.5 221,-712.5\"/>\n<text text-anchor=\"middle\" x=\"267\" y=\"-766.3\" font-family=\"Times,serif\" font-size=\"14.00\">x1</text>\n<polyline fill=\"none\" stroke=\"black\" points=\"221,-758.5 313,-758.5 \"/>\n<text text-anchor=\"middle\" x=\"267\" y=\"-743.3\" font-family=\"Times,serif\" font-size=\"14.00\">data = 2.0000</text>\n<polyline fill=\"none\" stroke=\"black\" points=\"221,-735.5 313,-735.5 \"/>\n<text text-anchor=\"middle\" x=\"267\" y=\"-720.3\" font-family=\"Times,serif\" font-size=\"14.00\">grad &#45;5</text>\n</g>\n<!-- 132656520408912* -->\n<g id=\"node15\" class=\"node\">\n<title>132656520408912*</title>\n<ellipse fill=\"none\" stroke=\"black\" cx=\"268\" cy=\"-658\" rx=\"27\" ry=\"18\"/>\n<text text-anchor=\"middle\" x=\"268\" y=\"-654.3\" font-family=\"Times,serif\" font-size=\"14.00\">*</text>\n</g>\n<!-- 132656520279232&#45;&gt;132656520408912* -->\n<g id=\"edge7\" class=\"edge\">\n<title>132656520279232&#45;&gt;132656520408912*</title>\n<path fill=\"none\" stroke=\"black\" d=\"M267.39,-712.11C267.49,-703.62 267.59,-694.61 267.68,-686.48\"/>\n<polygon fill=\"black\" stroke=\"black\" points=\"271.18,-686.44 267.8,-676.4 264.19,-686.36 271.18,-686.44\"/>\n</g>\n<!-- 132656520273616 -->\n<g id=\"node9\" class=\"node\">\n<title>132656520273616</title>\n<polygon fill=\"none\" stroke=\"black\" points=\"331.5,-712.5 331.5,-781.5 428.5,-781.5 428.5,-712.5 331.5,-712.5\"/>\n<text text-anchor=\"middle\" x=\"380\" y=\"-766.3\" font-family=\"Times,serif\" font-size=\"14.00\">w1</text>\n<polyline fill=\"none\" stroke=\"black\" points=\"331.5,-758.5 428.5,-758.5 \"/>\n<text text-anchor=\"middle\" x=\"380\" y=\"-743.3\" font-family=\"Times,serif\" font-size=\"14.00\">data = &#45;3.0000</text>\n<polyline fill=\"none\" stroke=\"black\" points=\"331.5,-735.5 428.5,-735.5 \"/>\n<text text-anchor=\"middle\" x=\"380\" y=\"-720.3\" font-family=\"Times,serif\" font-size=\"14.00\">grad 4</text>\n</g>\n<!-- 132656520273616&#45;&gt;132656520408912* -->\n<g id=\"edge10\" class=\"edge\">\n<title>132656520273616&#45;&gt;132656520408912*</title>\n<path fill=\"none\" stroke=\"black\" d=\"M336.7,-712.36C321.85,-700.83 305.75,-688.32 292.87,-678.32\"/>\n<polygon fill=\"black\" stroke=\"black\" points=\"294.96,-675.51 284.91,-672.14 290.66,-681.04 294.96,-675.51\"/>\n</g>\n<!-- 132656520400128 -->\n<g id=\"node10\" class=\"node\">\n<title>132656520400128</title>\n<polygon fill=\"none\" stroke=\"black\" points=\"109,-534.5 109,-603.5 201,-603.5 201,-534.5 109,-534.5\"/>\n<text text-anchor=\"middle\" x=\"155\" y=\"-588.3\" font-family=\"Times,serif\" font-size=\"14.00\">x2*w2</text>\n<polyline fill=\"none\" stroke=\"black\" points=\"109,-580.5 201,-580.5 \"/>\n<text text-anchor=\"middle\" x=\"155\" y=\"-565.3\" font-family=\"Times,serif\" font-size=\"14.00\">data = 0.0000</text>\n<polyline fill=\"none\" stroke=\"black\" points=\"109,-557.5 201,-557.5 \"/>\n<text text-anchor=\"middle\" x=\"155\" y=\"-542.3\" font-family=\"Times,serif\" font-size=\"14.00\">grad 2</text>\n</g>\n<!-- 132656520402768+ -->\n<g id=\"node13\" class=\"node\">\n<title>132656520402768+</title>\n<ellipse fill=\"none\" stroke=\"black\" cx=\"211\" cy=\"-480\" rx=\"27\" ry=\"18\"/>\n<text text-anchor=\"middle\" x=\"211\" y=\"-476.3\" font-family=\"Times,serif\" font-size=\"14.00\">+</text>\n</g>\n<!-- 132656520400128&#45;&gt;132656520402768+ -->\n<g id=\"edge11\" class=\"edge\">\n<title>132656520400128&#45;&gt;132656520402768+</title>\n<path fill=\"none\" stroke=\"black\" d=\"M176.81,-534.11C182.92,-524.62 189.44,-514.49 195.13,-505.65\"/>\n<polygon fill=\"black\" stroke=\"black\" points=\"198.24,-507.28 200.71,-496.98 192.36,-503.49 198.24,-507.28\"/>\n</g>\n<!-- 132656520400128*&#45;&gt;132656520400128 -->\n<g id=\"edge3\" class=\"edge\">\n<title>132656520400128*&#45;&gt;132656520400128</title>\n<path fill=\"none\" stroke=\"black\" d=\"M155,-639.81C155,-632.33 155,-623.18 155,-614\"/>\n<polygon fill=\"black\" stroke=\"black\" points=\"158.5,-613.71 155,-603.71 151.5,-613.71 158.5,-613.71\"/>\n</g>\n<!-- 132656520402768 -->\n<g id=\"node12\" class=\"node\">\n<title>132656520402768</title>\n<polygon fill=\"none\" stroke=\"black\" points=\"162,-356.5 162,-425.5 260,-425.5 260,-356.5 162,-356.5\"/>\n<text text-anchor=\"middle\" x=\"211\" y=\"-410.3\" font-family=\"Times,serif\" font-size=\"14.00\">x1*w1+x2*w2</text>\n<polyline fill=\"none\" stroke=\"black\" points=\"162,-402.5 260,-402.5 \"/>\n<text text-anchor=\"middle\" x=\"211\" y=\"-387.3\" font-family=\"Times,serif\" font-size=\"14.00\">data = &#45;6.0000</text>\n<polyline fill=\"none\" stroke=\"black\" points=\"162,-379.5 260,-379.5 \"/>\n<text text-anchor=\"middle\" x=\"211\" y=\"-364.3\" font-family=\"Times,serif\" font-size=\"14.00\">grad 1</text>\n</g>\n<!-- 132656520402768&#45;&gt;132656520477184+ -->\n<g id=\"edge13\" class=\"edge\">\n<title>132656520402768&#45;&gt;132656520477184+</title>\n<path fill=\"none\" stroke=\"black\" d=\"M188.8,-356.11C182.52,-346.52 175.8,-336.28 169.97,-327.37\"/>\n<polygon fill=\"black\" stroke=\"black\" points=\"172.88,-325.43 164.47,-318.98 167.02,-329.26 172.88,-325.43\"/>\n</g>\n<!-- 132656520402768+&#45;&gt;132656520402768 -->\n<g id=\"edge4\" class=\"edge\">\n<title>132656520402768+&#45;&gt;132656520402768</title>\n<path fill=\"none\" stroke=\"black\" d=\"M211,-461.81C211,-454.33 211,-445.18 211,-436\"/>\n<polygon fill=\"black\" stroke=\"black\" points=\"214.5,-435.71 211,-425.71 207.5,-435.71 214.5,-435.71\"/>\n</g>\n<!-- 132656520408912 -->\n<g id=\"node14\" class=\"node\">\n<title>132656520408912</title>\n<polygon fill=\"none\" stroke=\"black\" points=\"219.5,-534.5 219.5,-603.5 316.5,-603.5 316.5,-534.5 219.5,-534.5\"/>\n<text text-anchor=\"middle\" x=\"268\" y=\"-588.3\" font-family=\"Times,serif\" font-size=\"14.00\">x1*w1</text>\n<polyline fill=\"none\" stroke=\"black\" points=\"219.5,-580.5 316.5,-580.5 \"/>\n<text text-anchor=\"middle\" x=\"268\" y=\"-565.3\" font-family=\"Times,serif\" font-size=\"14.00\">data = &#45;6.0000</text>\n<polyline fill=\"none\" stroke=\"black\" points=\"219.5,-557.5 316.5,-557.5 \"/>\n<text text-anchor=\"middle\" x=\"268\" y=\"-542.3\" font-family=\"Times,serif\" font-size=\"14.00\">grad 2</text>\n</g>\n<!-- 132656520408912&#45;&gt;132656520402768+ -->\n<g id=\"edge12\" class=\"edge\">\n<title>132656520408912&#45;&gt;132656520402768+</title>\n<path fill=\"none\" stroke=\"black\" d=\"M245.8,-534.11C239.52,-524.52 232.8,-514.28 226.97,-505.37\"/>\n<polygon fill=\"black\" stroke=\"black\" points=\"229.88,-503.43 221.47,-496.98 224.02,-507.26 229.88,-503.43\"/>\n</g>\n<!-- 132656520408912*&#45;&gt;132656520408912 -->\n<g id=\"edge5\" class=\"edge\">\n<title>132656520408912*&#45;&gt;132656520408912</title>\n<path fill=\"none\" stroke=\"black\" d=\"M268,-639.81C268,-632.33 268,-623.18 268,-614\"/>\n<polygon fill=\"black\" stroke=\"black\" points=\"271.5,-613.71 268,-603.71 264.5,-613.71 271.5,-613.71\"/>\n</g>\n</g>\n</svg>\n",
            "text/plain": [
              "<graphviz.graphs.Digraph at 0x78a680c7b220>"
            ]
          },
          "metadata": {},
          "execution_count": 113
        }
      ]
    }
  ],
  "metadata": {
    "kernelspec": {
      "display_name": "Python 3",
      "language": "python",
      "name": "python3"
    },
    "language_info": {
      "codemirror_mode": {
        "name": "ipython",
        "version": 3
      },
      "file_extension": ".py",
      "mimetype": "text/x-python",
      "name": "python",
      "nbconvert_exporter": "python",
      "pygments_lexer": "ipython3",
      "version": "3.10.6"
    },
    "colab": {
      "provenance": []
    }
  },
  "nbformat": 4,
  "nbformat_minor": 0
}